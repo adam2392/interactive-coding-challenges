{
 "cells": [
  {
   "cell_type": "markdown",
   "metadata": {},
   "source": [
    "This notebook was prepared by [Donne Martin](https://github.com/donnemartin). Source and license info is on [GitHub](https://github.com/donnemartin/interactive-coding-challenges)."
   ]
  },
  {
   "cell_type": "markdown",
   "metadata": {},
   "source": [
    "# Challenge Notebook"
   ]
  },
  {
   "cell_type": "markdown",
   "metadata": {},
   "source": [
    "## Problem: Implement a graph.\n",
    "\n",
    "* [Constraints](#Constraints)\n",
    "* [Test Cases](#Test-Cases)\n",
    "* [Algorithm](#Algorithm)\n",
    "* [Code](#Code)\n",
    "* [Unit Test](#Unit-Test)\n",
    "* [Solution Notebook](#Solution-Notebook)"
   ]
  },
  {
   "cell_type": "markdown",
   "metadata": {},
   "source": [
    "## Constraints\n",
    "\n",
    "* Is the graph directed?\n",
    "    * Implement both\n",
    "* Do the edges have weights?\n",
    "    * Yes\n",
    "* Can the graph have cycles?\n",
    "    * Yes\n",
    "* If we try to add a node that already exists, do we just do nothing?\n",
    "    * Yes\n",
    "* If we try to delete a node that doesn't exist, do we just do nothing?\n",
    "    * Yes\n",
    "* Can we assume this is a connected graph?\n",
    "    * Yes\n",
    "* Can we assume the inputs are valid?\n",
    "    * Yes\n",
    "* Can we assume this fits memory?\n",
    "    * Yes"
   ]
  },
  {
   "cell_type": "markdown",
   "metadata": {},
   "source": [
    "## Test Cases\n",
    "\n",
    "Input:\n",
    "* `add_edge(source, destination, weight)`\n",
    "\n",
    "```\n",
    "graph.add_edge(0, 1, 5)\n",
    "graph.add_edge(0, 5, 2)\n",
    "graph.add_edge(1, 2, 3)\n",
    "graph.add_edge(2, 3, 4)\n",
    "graph.add_edge(3, 4, 5)\n",
    "graph.add_edge(3, 5, 6)\n",
    "graph.add_edge(4, 0, 7)\n",
    "graph.add_edge(5, 4, 8)\n",
    "graph.add_edge(5, 2, 9)\n",
    "```\n",
    "\n",
    "Result:\n",
    "* `source` and `destination` nodes within `graph` are connected with specified `weight`.\n",
    "\n",
    "Note: \n",
    "* The Graph class will be used as a building block for more complex graph challenges."
   ]
  },
  {
   "cell_type": "markdown",
   "metadata": {},
   "source": [
    "## Algorithm\n",
    "\n",
    "Refer to the [Solution Notebook](https://github.com/donnemartin/interactive-coding-challenges/graphs_trees/graphs/graph_solution.ipynb).  If you are stuck and need a hint, the solution notebook's algorithm discussion might be a good place to start."
   ]
  },
  {
   "cell_type": "markdown",
   "metadata": {},
   "source": [
    "## Code"
   ]
  },
  {
   "cell_type": "code",
   "execution_count": 14,
   "metadata": {
    "collapsed": false
   },
   "outputs": [],
   "source": [
    "from enum import Enum  # Python 2 users: Run pip install enum34\n",
    "\n",
    "\n",
    "class State(Enum):\n",
    "    unvisited = 0\n",
    "    visiting = 1\n",
    "    visited = 2\n",
    "\n",
    "\n",
    "class Node:\n",
    "    def __init__(self, key):\n",
    "        self.key = key\n",
    "        self.visit_state = State.unvisited\n",
    "        self.incoming_edges = 0\n",
    "        self.adj_nodes = {}  # Key = key, val = Node\n",
    "        self.adj_weights = {}  # Key = Node, val = weight\n",
    "\n",
    "    def __repr__(self):\n",
    "        return str(self.key)\n",
    "\n",
    "    def __lt__(self, other):\n",
    "        return self.key < other.key\n",
    "\n",
    "    def add_neighbor(self, neighbor, weight=0):\n",
    "        if neighbor is None or weight is None:\n",
    "            raise TypeError('Neighbor or weight cannnot be none')\n",
    "        # add each other to weights\n",
    "        self.adj_weights[neighbor.key] = weight\n",
    "        self.adj_nodes[neighbor.key] = neighbor\n",
    "        # increment\n",
    "        neighbor.incoming_edges += 1\n",
    "\n",
    "    def remove_neighbor(self, neighbor):\n",
    "        self.adj_weights.pop(neighbor.key, None)\n",
    "        self.adj_nodes.pop[neighbor.key, None]\n",
    "        neighbor.incoming_edges -= 1\n",
    "\n",
    "\n",
    "class Graph:\n",
    "    def __init__(self):\n",
    "        self.nodes = {}  # Key = key, val = Node\n",
    "\n",
    "    def add_node(self, key):\n",
    "        newnode = Node(key)\n",
    "        if id in self.nodes.keys():\n",
    "            return self.nodes[key]\n",
    "        else:\n",
    "            self.nodes[key] = newnode\n",
    "            return self.nodes[key]\n",
    "\n",
    "    def add_edge(self, source, dest, weight=0):\n",
    "        if source is None or dest is None:\n",
    "            raise TypeError('keys cannot be None')\n",
    "        if source not in self.nodes.keys():\n",
    "            self.add_node(source)\n",
    "        if dest not in self.nodes.keys():\n",
    "            self.add_node(dest)\n",
    "            \n",
    "        sourcenode = self.nodes[source]\n",
    "        destnode = self.nodes[dest]\n",
    "        # add neighbor for source node\n",
    "        sourcenode.add_neighbor(destnode, weight)\n",
    "\n",
    "    def add_undirected_edge(self, source, dest, weight=0):\n",
    "        if source is None or dest is None:\n",
    "            raise TypeError('keys cannot be none')\n",
    "        \n",
    "        sourcenode = self.nodes[source]\n",
    "        destnode = self.nodes[dest]\n",
    "        \n",
    "        # add neighbors to each other\n",
    "        self.add_edge(sourcenode, destnode, weight)\n",
    "        self.add_edge(destnode, sourcenode, weight)\n",
    "        "
   ]
  },
  {
   "cell_type": "markdown",
   "metadata": {},
   "source": [
    "## Unit Test"
   ]
  },
  {
   "cell_type": "markdown",
   "metadata": {},
   "source": [
    "**The following unit test is expected to fail until you solve the challenge.**"
   ]
  },
  {
   "cell_type": "code",
   "execution_count": 15,
   "metadata": {
    "collapsed": false
   },
   "outputs": [
    {
     "ename": "TypeError",
     "evalue": "'builtin_function_or_method' object is not subscriptable",
     "output_type": "error",
     "traceback": [
      "\u001b[0;31m---------------------------------------------------------------------------\u001b[0m",
      "\u001b[0;31mTypeError\u001b[0m                                 Traceback (most recent call last)",
      "\u001b[0;32m<ipython-input-15-09d083b672e8>\u001b[0m in \u001b[0;36m<module>\u001b[0;34m()\u001b[0m\n\u001b[1;32m     73\u001b[0m \u001b[0;34m\u001b[0m\u001b[0m\n\u001b[1;32m     74\u001b[0m \u001b[0;32mif\u001b[0m \u001b[0m__name__\u001b[0m \u001b[0;34m==\u001b[0m \u001b[0;34m'__main__'\u001b[0m\u001b[0;34m:\u001b[0m\u001b[0;34m\u001b[0m\u001b[0m\n\u001b[0;32m---> 75\u001b[0;31m     \u001b[0mmain\u001b[0m\u001b[0;34m(\u001b[0m\u001b[0;34m)\u001b[0m\u001b[0;34m\u001b[0m\u001b[0m\n\u001b[0m",
      "\u001b[0;32m<ipython-input-15-09d083b672e8>\u001b[0m in \u001b[0;36mmain\u001b[0;34m()\u001b[0m\n\u001b[1;32m     68\u001b[0m \u001b[0;32mdef\u001b[0m \u001b[0mmain\u001b[0m\u001b[0;34m(\u001b[0m\u001b[0;34m)\u001b[0m\u001b[0;34m:\u001b[0m\u001b[0;34m\u001b[0m\u001b[0m\n\u001b[1;32m     69\u001b[0m     \u001b[0mtest\u001b[0m \u001b[0;34m=\u001b[0m \u001b[0mTestGraph\u001b[0m\u001b[0;34m(\u001b[0m\u001b[0;34m)\u001b[0m\u001b[0;34m\u001b[0m\u001b[0m\n\u001b[0;32m---> 70\u001b[0;31m     \u001b[0mtest\u001b[0m\u001b[0;34m.\u001b[0m\u001b[0mtest_graph\u001b[0m\u001b[0;34m(\u001b[0m\u001b[0;34m)\u001b[0m\u001b[0;34m\u001b[0m\u001b[0m\n\u001b[0m\u001b[1;32m     71\u001b[0m     \u001b[0mtest\u001b[0m\u001b[0;34m.\u001b[0m\u001b[0mtest_graph_undirected\u001b[0m\u001b[0;34m(\u001b[0m\u001b[0;34m)\u001b[0m\u001b[0;34m\u001b[0m\u001b[0m\n\u001b[1;32m     72\u001b[0m \u001b[0;34m\u001b[0m\u001b[0m\n",
      "\u001b[0;32m<ipython-input-15-09d083b672e8>\u001b[0m in \u001b[0;36mtest_graph\u001b[0;34m(self)\u001b[0m\n\u001b[1;32m     41\u001b[0m         \u001b[0massert_equal\u001b[0m\u001b[0;34m(\u001b[0m\u001b[0mgraph\u001b[0m\u001b[0;34m.\u001b[0m\u001b[0mnodes\u001b[0m\u001b[0;34m[\u001b[0m\u001b[0;36m5\u001b[0m\u001b[0;34m]\u001b[0m\u001b[0;34m.\u001b[0m\u001b[0mincoming_edges\u001b[0m\u001b[0;34m,\u001b[0m \u001b[0;36m2\u001b[0m\u001b[0;34m)\u001b[0m\u001b[0;34m\u001b[0m\u001b[0m\n\u001b[1;32m     42\u001b[0m \u001b[0;34m\u001b[0m\u001b[0m\n\u001b[0;32m---> 43\u001b[0;31m         \u001b[0mgraph\u001b[0m\u001b[0;34m.\u001b[0m\u001b[0mnodes\u001b[0m\u001b[0;34m[\u001b[0m\u001b[0;36m0\u001b[0m\u001b[0;34m]\u001b[0m\u001b[0;34m.\u001b[0m\u001b[0mremove_neighbor\u001b[0m\u001b[0;34m(\u001b[0m\u001b[0mgraph\u001b[0m\u001b[0;34m.\u001b[0m\u001b[0mnodes\u001b[0m\u001b[0;34m[\u001b[0m\u001b[0;36m1\u001b[0m\u001b[0;34m]\u001b[0m\u001b[0;34m)\u001b[0m\u001b[0;34m\u001b[0m\u001b[0m\n\u001b[0m\u001b[1;32m     44\u001b[0m         \u001b[0massert_equal\u001b[0m\u001b[0;34m(\u001b[0m\u001b[0mgraph\u001b[0m\u001b[0;34m.\u001b[0m\u001b[0mnodes\u001b[0m\u001b[0;34m[\u001b[0m\u001b[0;36m1\u001b[0m\u001b[0;34m]\u001b[0m\u001b[0;34m.\u001b[0m\u001b[0mincoming_edges\u001b[0m\u001b[0;34m,\u001b[0m \u001b[0;36m0\u001b[0m\u001b[0;34m)\u001b[0m\u001b[0;34m\u001b[0m\u001b[0m\n\u001b[1;32m     45\u001b[0m         \u001b[0mgraph\u001b[0m\u001b[0;34m.\u001b[0m\u001b[0mnodes\u001b[0m\u001b[0;34m[\u001b[0m\u001b[0;36m3\u001b[0m\u001b[0;34m]\u001b[0m\u001b[0;34m.\u001b[0m\u001b[0mremove_neighbor\u001b[0m\u001b[0;34m(\u001b[0m\u001b[0mgraph\u001b[0m\u001b[0;34m.\u001b[0m\u001b[0mnodes\u001b[0m\u001b[0;34m[\u001b[0m\u001b[0;36m4\u001b[0m\u001b[0;34m]\u001b[0m\u001b[0;34m)\u001b[0m\u001b[0;34m\u001b[0m\u001b[0m\n",
      "\u001b[0;32m<ipython-input-14-b17534d4d980>\u001b[0m in \u001b[0;36mremove_neighbor\u001b[0;34m(self, neighbor)\u001b[0m\n\u001b[1;32m     33\u001b[0m     \u001b[0;32mdef\u001b[0m \u001b[0mremove_neighbor\u001b[0m\u001b[0;34m(\u001b[0m\u001b[0mself\u001b[0m\u001b[0;34m,\u001b[0m \u001b[0mneighbor\u001b[0m\u001b[0;34m)\u001b[0m\u001b[0;34m:\u001b[0m\u001b[0;34m\u001b[0m\u001b[0m\n\u001b[1;32m     34\u001b[0m         \u001b[0mself\u001b[0m\u001b[0;34m.\u001b[0m\u001b[0madj_weights\u001b[0m\u001b[0;34m.\u001b[0m\u001b[0mpop\u001b[0m\u001b[0;34m(\u001b[0m\u001b[0mneighbor\u001b[0m\u001b[0;34m.\u001b[0m\u001b[0mkey\u001b[0m\u001b[0;34m,\u001b[0m \u001b[0;32mNone\u001b[0m\u001b[0;34m)\u001b[0m\u001b[0;34m\u001b[0m\u001b[0m\n\u001b[0;32m---> 35\u001b[0;31m         \u001b[0mself\u001b[0m\u001b[0;34m.\u001b[0m\u001b[0madj_nodes\u001b[0m\u001b[0;34m.\u001b[0m\u001b[0mpop\u001b[0m\u001b[0;34m[\u001b[0m\u001b[0mneighbor\u001b[0m\u001b[0;34m.\u001b[0m\u001b[0mkey\u001b[0m\u001b[0;34m,\u001b[0m \u001b[0;32mNone\u001b[0m\u001b[0;34m]\u001b[0m\u001b[0;34m\u001b[0m\u001b[0m\n\u001b[0m\u001b[1;32m     36\u001b[0m         \u001b[0mneighbor\u001b[0m\u001b[0;34m.\u001b[0m\u001b[0mincoming_edges\u001b[0m \u001b[0;34m-=\u001b[0m \u001b[0;36m1\u001b[0m\u001b[0;34m\u001b[0m\u001b[0m\n\u001b[1;32m     37\u001b[0m \u001b[0;34m\u001b[0m\u001b[0m\n",
      "\u001b[0;31mTypeError\u001b[0m: 'builtin_function_or_method' object is not subscriptable"
     ]
    }
   ],
   "source": [
    "# %load test_graph.py\n",
    "from nose.tools import assert_equal\n",
    "\n",
    "class TestGraph(object):\n",
    "\n",
    "    def create_graph(self):\n",
    "        graph = Graph()\n",
    "        for key in range(0, 6):\n",
    "            graph.add_node(key)\n",
    "        return graph\n",
    "\n",
    "    def test_graph(self):\n",
    "        graph = self.create_graph()\n",
    "        graph.add_edge(0, 1, weight=5)\n",
    "        graph.add_edge(0, 5, weight=2)\n",
    "        graph.add_edge(1, 2, weight=3)\n",
    "        graph.add_edge(2, 3, weight=4)\n",
    "        graph.add_edge(3, 4, weight=5)\n",
    "        graph.add_edge(3, 5, weight=6)\n",
    "        graph.add_edge(4, 0, weight=7)\n",
    "        graph.add_edge(5, 4, weight=8)\n",
    "        graph.add_edge(5, 2, weight=9)\n",
    "\n",
    "        \n",
    "        \n",
    "        assert_equal(graph.nodes[0].adj_weights[graph.nodes[1].key], 5)\n",
    "        assert_equal(graph.nodes[0].adj_weights[graph.nodes[5].key], 2)\n",
    "        assert_equal(graph.nodes[1].adj_weights[graph.nodes[2].key], 3)\n",
    "        assert_equal(graph.nodes[2].adj_weights[graph.nodes[3].key], 4)\n",
    "        assert_equal(graph.nodes[3].adj_weights[graph.nodes[4].key], 5)\n",
    "        assert_equal(graph.nodes[3].adj_weights[graph.nodes[5].key], 6)\n",
    "        assert_equal(graph.nodes[4].adj_weights[graph.nodes[0].key], 7)\n",
    "        assert_equal(graph.nodes[5].adj_weights[graph.nodes[4].key], 8)\n",
    "        assert_equal(graph.nodes[5].adj_weights[graph.nodes[2].key], 9)\n",
    "\n",
    "        assert_equal(graph.nodes[0].incoming_edges, 1)\n",
    "        assert_equal(graph.nodes[1].incoming_edges, 1)\n",
    "        assert_equal(graph.nodes[2].incoming_edges, 2)\n",
    "        assert_equal(graph.nodes[3].incoming_edges, 1)\n",
    "        assert_equal(graph.nodes[4].incoming_edges, 2)\n",
    "        assert_equal(graph.nodes[5].incoming_edges, 2)\n",
    "\n",
    "        graph.nodes[0].remove_neighbor(graph.nodes[1])\n",
    "        assert_equal(graph.nodes[1].incoming_edges, 0)\n",
    "        graph.nodes[3].remove_neighbor(graph.nodes[4])\n",
    "        assert_equal(graph.nodes[4].incoming_edges, 1)\n",
    "\n",
    "        assert_equal(graph.nodes[0] < graph.nodes[1], True)\n",
    "\n",
    "        print('Success: test_graph')\n",
    "\n",
    "    def test_graph_undirected(self):\n",
    "        graph = self.create_graph()\n",
    "        graph.add_undirected_edge(0, 1, weight=5)\n",
    "        graph.add_undirected_edge(0, 5, weight=2)\n",
    "        graph.add_undirected_edge(1, 2, weight=3)\n",
    "\n",
    "        assert_equal(graph.nodes[0].adj_weights[graph.nodes[1].key], 5)\n",
    "        assert_equal(graph.nodes[1].adj_weights[graph.nodes[0].key], 5)\n",
    "        assert_equal(graph.nodes[0].adj_weights[graph.nodes[5].key], 2)\n",
    "        assert_equal(graph.nodes[5].adj_weights[graph.nodes[0].key], 2)\n",
    "        assert_equal(graph.nodes[1].adj_weights[graph.nodes[2].key], 3)\n",
    "        assert_equal(graph.nodes[2].adj_weights[graph.nodes[1].key], 3)\n",
    "\n",
    "        print('Success: test_graph_undirected')\n",
    "\n",
    "\n",
    "def main():\n",
    "    test = TestGraph()\n",
    "    test.test_graph()\n",
    "    test.test_graph_undirected()\n",
    "\n",
    "\n",
    "if __name__ == '__main__':\n",
    "    main()"
   ]
  },
  {
   "cell_type": "markdown",
   "metadata": {},
   "source": [
    "## Solution Notebook\n",
    "\n",
    "Review the [Solution Notebook](https://github.com/donnemartin/interactive-coding-challenges/graphs_trees/graphs/graph_solution.ipynb) for a discussion on algorithms and code solutions."
   ]
  }
 ],
 "metadata": {
  "kernelspec": {
   "display_name": "fragility3",
   "language": "python",
   "name": "fragility3"
  },
  "language_info": {
   "codemirror_mode": {
    "name": "ipython",
    "version": 3
   },
   "file_extension": ".py",
   "mimetype": "text/x-python",
   "name": "python",
   "nbconvert_exporter": "python",
   "pygments_lexer": "ipython3",
   "version": "3.6.3"
  }
 },
 "nbformat": 4,
 "nbformat_minor": 2
}
